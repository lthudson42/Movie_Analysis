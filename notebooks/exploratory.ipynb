{
 "cells": [
  {
   "cell_type": "code",
   "execution_count": 1,
   "metadata": {},
   "outputs": [],
   "source": [
    "# Import libraries\n",
    "import pandas as pd\n",
    "import numpy as np\n",
    "import matplotlib.pyplot as plt\n",
    "%matplotlib inline\n",
    "import seaborn as sns\n",
    "\n",
    "# Load the data\n",
    "movie_gross_df = pd.read_csv('zippedData/bom.movie_gross.csv.gz')\n",
    "rt_movie_info = pd.read_csv('zippedData/rt.movie_info.tsv.gz', delimiter='\\t')\n",
    "rt_reviews = pd.read_csv('zippedData/rt.reviews.tsv.gz', delimiter='\\t', encoding='latin1')\n",
    "tmdb_movies = pd.read_csv('zippedData/tmdb.movies.csv.gz')\n",
    "tn_movie_budgets = pd.read_csv('zippedData/tn.movie_budgets.csv.gz')"
   ]
  },
  {
   "cell_type": "code",
   "execution_count": 1,
   "metadata": {},
   "outputs": [
    {
     "name": "stdout",
     "output_type": "stream",
     "text": [
      "Table: movie_basics\n",
      "(0, 'movie_id', 'TEXT', 0, None, 0)\n",
      "(1, 'primary_title', 'TEXT', 0, None, 0)\n",
      "(2, 'original_title', 'TEXT', 0, None, 0)\n",
      "(3, 'start_year', 'INTEGER', 0, None, 0)\n",
      "(4, 'runtime_minutes', 'REAL', 0, None, 0)\n",
      "(5, 'genres', 'TEXT', 0, None, 0)\n",
      "\n",
      "\n",
      "Table: directors\n",
      "(0, 'movie_id', 'TEXT', 0, None, 0)\n",
      "(1, 'person_id', 'TEXT', 0, None, 0)\n",
      "\n",
      "\n",
      "Table: known_for\n",
      "(0, 'person_id', 'TEXT', 0, None, 0)\n",
      "(1, 'movie_id', 'TEXT', 0, None, 0)\n",
      "\n",
      "\n",
      "Table: movie_akas\n",
      "(0, 'movie_id', 'TEXT', 0, None, 0)\n",
      "(1, 'ordering', 'INTEGER', 0, None, 0)\n",
      "(2, 'title', 'TEXT', 0, None, 0)\n",
      "(3, 'region', 'TEXT', 0, None, 0)\n",
      "(4, 'language', 'TEXT', 0, None, 0)\n",
      "(5, 'types', 'TEXT', 0, None, 0)\n",
      "(6, 'attributes', 'TEXT', 0, None, 0)\n",
      "(7, 'is_original_title', 'REAL', 0, None, 0)\n",
      "\n",
      "\n",
      "Table: movie_ratings\n",
      "(0, 'movie_id', 'TEXT', 0, None, 0)\n",
      "(1, 'averagerating', 'REAL', 0, None, 0)\n",
      "(2, 'numvotes', 'INTEGER', 0, None, 0)\n",
      "\n",
      "\n",
      "Table: persons\n",
      "(0, 'person_id', 'TEXT', 0, None, 0)\n",
      "(1, 'primary_name', 'TEXT', 0, None, 0)\n",
      "(2, 'birth_year', 'REAL', 0, None, 0)\n",
      "(3, 'death_year', 'REAL', 0, None, 0)\n",
      "(4, 'primary_profession', 'TEXT', 0, None, 0)\n",
      "\n",
      "\n",
      "Table: principals\n",
      "(0, 'movie_id', 'TEXT', 0, None, 0)\n",
      "(1, 'ordering', 'INTEGER', 0, None, 0)\n",
      "(2, 'person_id', 'TEXT', 0, None, 0)\n",
      "(3, 'category', 'TEXT', 0, None, 0)\n",
      "(4, 'job', 'TEXT', 0, None, 0)\n",
      "(5, 'characters', 'TEXT', 0, None, 0)\n",
      "\n",
      "\n",
      "Table: writers\n",
      "(0, 'movie_id', 'TEXT', 0, None, 0)\n",
      "(1, 'person_id', 'TEXT', 0, None, 0)\n",
      "\n",
      "\n"
     ]
    }
   ],
   "source": [
    "import sqlite3\n",
    "import zipfile\n",
    "\n",
    "# Unzip the database file\n",
    "with zipfile.ZipFile('zippedData/im.db.zip', 'r') as zip_ref:\n",
    "    zip_ref.extractall()\n",
    "\n",
    "# Connect to the database\n",
    "conn = sqlite3.connect('zippedData/im.db')\n",
    "cursor = conn.cursor()\n",
    "\n",
    "# Get the list of tables\n",
    "cursor.execute(\"SELECT name FROM sqlite_master WHERE type='table';\")\n",
    "tables = cursor.fetchall()\n",
    "\n",
    "# Preview all columns from each table\n",
    "for table in tables:\n",
    "    table_name = table[0]\n",
    "    print(f\"Table: {table_name}\")\n",
    "    cursor.execute(f\"PRAGMA table_info({table_name});\")\n",
    "    columns = cursor.fetchall()\n",
    "    for column in columns:\n",
    "        print(column)\n",
    "    print(\"\\n\")"
   ]
  },
  {
   "cell_type": "code",
   "execution_count": 150,
   "metadata": {},
   "outputs": [],
   "source": [
    "# Filter out records with start_year before 2010\n",
    "cursor.execute(f\"DELETE FROM movie_basics WHERE start_year < 2010\")\n",
    "conn.commit()"
   ]
  },
  {
   "cell_type": "code",
   "execution_count": 151,
   "metadata": {
    "vscode": {
     "languageId": "powershell"
    }
   },
   "outputs": [
    {
     "data": {
      "text/html": [
       "<div>\n",
       "<style scoped>\n",
       "    .dataframe tbody tr th:only-of-type {\n",
       "        vertical-align: middle;\n",
       "    }\n",
       "\n",
       "    .dataframe tbody tr th {\n",
       "        vertical-align: top;\n",
       "    }\n",
       "\n",
       "    .dataframe thead th {\n",
       "        text-align: right;\n",
       "    }\n",
       "</style>\n",
       "<table border=\"1\" class=\"dataframe\">\n",
       "  <thead>\n",
       "    <tr style=\"text-align: right;\">\n",
       "      <th></th>\n",
       "      <th>movie_id</th>\n",
       "      <th>primary_title</th>\n",
       "      <th>start_year</th>\n",
       "      <th>runtime_minutes</th>\n",
       "      <th>genres</th>\n",
       "    </tr>\n",
       "  </thead>\n",
       "  <tbody>\n",
       "    <tr>\n",
       "      <th>0</th>\n",
       "      <td>tt0063540</td>\n",
       "      <td>Sunghursh</td>\n",
       "      <td>2013</td>\n",
       "      <td>175.0</td>\n",
       "      <td>Action|Crime|Drama</td>\n",
       "    </tr>\n",
       "    <tr>\n",
       "      <th>1</th>\n",
       "      <td>tt0066787</td>\n",
       "      <td>One Day Before the Rainy Season</td>\n",
       "      <td>2019</td>\n",
       "      <td>114.0</td>\n",
       "      <td>Biography|Drama</td>\n",
       "    </tr>\n",
       "    <tr>\n",
       "      <th>2</th>\n",
       "      <td>tt0069049</td>\n",
       "      <td>The Other Side of the Wind</td>\n",
       "      <td>2018</td>\n",
       "      <td>122.0</td>\n",
       "      <td>Drama</td>\n",
       "    </tr>\n",
       "    <tr>\n",
       "      <th>4</th>\n",
       "      <td>tt0100275</td>\n",
       "      <td>The Wandering Soap Opera</td>\n",
       "      <td>2017</td>\n",
       "      <td>80.0</td>\n",
       "      <td>Comedy|Drama|Fantasy</td>\n",
       "    </tr>\n",
       "    <tr>\n",
       "      <th>5</th>\n",
       "      <td>tt0111414</td>\n",
       "      <td>A Thin Life</td>\n",
       "      <td>2018</td>\n",
       "      <td>75.0</td>\n",
       "      <td>Comedy</td>\n",
       "    </tr>\n",
       "  </tbody>\n",
       "</table>\n",
       "</div>"
      ],
      "text/plain": [
       "    movie_id                    primary_title  start_year  runtime_minutes  \\\n",
       "0  tt0063540                        Sunghursh        2013            175.0   \n",
       "1  tt0066787  One Day Before the Rainy Season        2019            114.0   \n",
       "2  tt0069049       The Other Side of the Wind        2018            122.0   \n",
       "4  tt0100275         The Wandering Soap Opera        2017             80.0   \n",
       "5  tt0111414                      A Thin Life        2018             75.0   \n",
       "\n",
       "                 genres  \n",
       "0    Action|Crime|Drama  \n",
       "1       Biography|Drama  \n",
       "2                 Drama  \n",
       "4  Comedy|Drama|Fantasy  \n",
       "5                Comedy  "
      ]
     },
     "execution_count": 151,
     "metadata": {},
     "output_type": "execute_result"
    }
   ],
   "source": [
    "# Query the movie_basics table\n",
    "movie_basics_df = pd.read_sql_query(\"SELECT * FROM movie_basics\", conn)\n",
    "\n",
    "# Drop unnecessary columns\n",
    "movie_basics_df = movie_basics_df.drop(columns=['original_title'])\n",
    "\n",
    "# Filter\n",
    "movie_basics_df = movie_basics_df[movie_basics_df['genres'].notnull()]\n",
    "movie_basics_df = movie_basics_df[movie_basics_df['runtime_minutes'].notnull() & movie_basics_df['runtime_minutes'] > 0]\n",
    "\n",
    "# Replace the commas in genres with | to make the data more consistent with other dataframes\n",
    "movie_basics_df['genres'] = movie_basics_df['genres'].str.replace(',', '|')\n",
    "movie_basics_df.head()"
   ]
  },
  {
   "cell_type": "code",
   "execution_count": 152,
   "metadata": {},
   "outputs": [],
   "source": [
    "# Filter dataframes to only contain records after 2010\n",
    "movie_gross_df = movie_gross_df[movie_gross_df['year'] >= 2010]\n",
    "rt_movie_info = rt_movie_info[pd.to_datetime(rt_movie_info['theater_date'], format='mixed').dt.year >= 2010]\n",
    "tmdb_movies = tmdb_movies[pd.to_datetime(tmdb_movies['release_date'], format='mixed').dt.year >= 2010]\n",
    "tn_movie_budgets = tn_movie_budgets[pd.to_datetime(tn_movie_budgets['release_date'], format='mixed').dt.year >= 2010]\n",
    "\n",
    "# Convert values that should be numeric to numeric\n",
    "movie_gross_df['foreign_gross'] = movie_gross_df['foreign_gross'].astype(str).str.replace(',', '').astype(float)\n",
    "\n",
    "rt_movie_info['runtime'] = rt_movie_info['runtime'].astype(str).str.replace(' minutes', '').fillna(0).replace('nan', '0').astype(int)\n",
    "rt_movie_info['box_office'] = rt_movie_info['box_office'].astype(str).str.replace(',', '').replace('nan', '0').astype(int)\n",
    "\n",
    "tn_movie_budgets['production_budget'] = tn_movie_budgets['production_budget'].astype(str).str.replace('$', '').str.replace(',', '').replace('nan', '0').astype(int)\n",
    "tn_movie_budgets['domestic_gross'] = tn_movie_budgets['domestic_gross'].astype(str).str.replace('$', '').str.replace(',', '').replace('nan', '0').astype(int)\n",
    "tn_movie_budgets['worldwide_gross'] = tn_movie_budgets['worldwide_gross'].astype(str).str.replace('$', '').str.replace(',', '').replace('nan', '0').astype(int)"
   ]
  },
  {
   "cell_type": "code",
   "execution_count": 153,
   "metadata": {},
   "outputs": [
    {
     "data": {
      "text/html": [
       "<div>\n",
       "<style scoped>\n",
       "    .dataframe tbody tr th:only-of-type {\n",
       "        vertical-align: middle;\n",
       "    }\n",
       "\n",
       "    .dataframe tbody tr th {\n",
       "        vertical-align: top;\n",
       "    }\n",
       "\n",
       "    .dataframe thead th {\n",
       "        text-align: right;\n",
       "    }\n",
       "</style>\n",
       "<table border=\"1\" class=\"dataframe\">\n",
       "  <thead>\n",
       "    <tr style=\"text-align: right;\">\n",
       "      <th></th>\n",
       "      <th>release_date</th>\n",
       "      <th>movie</th>\n",
       "      <th>production_budget</th>\n",
       "      <th>domestic_gross</th>\n",
       "      <th>worldwide_gross</th>\n",
       "      <th>movie_id</th>\n",
       "      <th>start_year</th>\n",
       "      <th>runtime_minutes</th>\n",
       "      <th>genres</th>\n",
       "    </tr>\n",
       "  </thead>\n",
       "  <tbody>\n",
       "    <tr>\n",
       "      <th>0</th>\n",
       "      <td>May 20, 2011</td>\n",
       "      <td>Pirates of the Caribbean: On Stranger Tides</td>\n",
       "      <td>410600000</td>\n",
       "      <td>241063875</td>\n",
       "      <td>1045663875</td>\n",
       "      <td>tt1298650</td>\n",
       "      <td>2011</td>\n",
       "      <td>136.0</td>\n",
       "      <td>Action|Adventure|Fantasy</td>\n",
       "    </tr>\n",
       "    <tr>\n",
       "      <th>1</th>\n",
       "      <td>Jun 7, 2019</td>\n",
       "      <td>Dark Phoenix</td>\n",
       "      <td>350000000</td>\n",
       "      <td>42762350</td>\n",
       "      <td>149762350</td>\n",
       "      <td>tt6565702</td>\n",
       "      <td>2019</td>\n",
       "      <td>113.0</td>\n",
       "      <td>Action|Adventure|Sci-Fi</td>\n",
       "    </tr>\n",
       "    <tr>\n",
       "      <th>2</th>\n",
       "      <td>May 1, 2015</td>\n",
       "      <td>Avengers: Age of Ultron</td>\n",
       "      <td>330600000</td>\n",
       "      <td>459005868</td>\n",
       "      <td>1403013963</td>\n",
       "      <td>tt2395427</td>\n",
       "      <td>2015</td>\n",
       "      <td>141.0</td>\n",
       "      <td>Action|Adventure|Sci-Fi</td>\n",
       "    </tr>\n",
       "    <tr>\n",
       "      <th>3</th>\n",
       "      <td>Apr 27, 2018</td>\n",
       "      <td>Avengers: Infinity War</td>\n",
       "      <td>300000000</td>\n",
       "      <td>678815482</td>\n",
       "      <td>2048134200</td>\n",
       "      <td>tt4154756</td>\n",
       "      <td>2018</td>\n",
       "      <td>149.0</td>\n",
       "      <td>Action|Adventure|Sci-Fi</td>\n",
       "    </tr>\n",
       "    <tr>\n",
       "      <th>4</th>\n",
       "      <td>Nov 17, 2017</td>\n",
       "      <td>Justice League</td>\n",
       "      <td>300000000</td>\n",
       "      <td>229024295</td>\n",
       "      <td>655945209</td>\n",
       "      <td>tt0974015</td>\n",
       "      <td>2017</td>\n",
       "      <td>120.0</td>\n",
       "      <td>Action|Adventure|Fantasy</td>\n",
       "    </tr>\n",
       "  </tbody>\n",
       "</table>\n",
       "</div>"
      ],
      "text/plain": [
       "   release_date                                        movie  \\\n",
       "0  May 20, 2011  Pirates of the Caribbean: On Stranger Tides   \n",
       "1   Jun 7, 2019                                 Dark Phoenix   \n",
       "2   May 1, 2015                      Avengers: Age of Ultron   \n",
       "3  Apr 27, 2018                       Avengers: Infinity War   \n",
       "4  Nov 17, 2017                               Justice League   \n",
       "\n",
       "   production_budget  domestic_gross  worldwide_gross   movie_id  start_year  \\\n",
       "0          410600000       241063875       1045663875  tt1298650        2011   \n",
       "1          350000000        42762350        149762350  tt6565702        2019   \n",
       "2          330600000       459005868       1403013963  tt2395427        2015   \n",
       "3          300000000       678815482       2048134200  tt4154756        2018   \n",
       "4          300000000       229024295        655945209  tt0974015        2017   \n",
       "\n",
       "   runtime_minutes                    genres  \n",
       "0            136.0  Action|Adventure|Fantasy  \n",
       "1            113.0   Action|Adventure|Sci-Fi  \n",
       "2            141.0   Action|Adventure|Sci-Fi  \n",
       "3            149.0   Action|Adventure|Sci-Fi  \n",
       "4            120.0  Action|Adventure|Fantasy  "
      ]
     },
     "execution_count": 153,
     "metadata": {},
     "output_type": "execute_result"
    }
   ],
   "source": [
    "# Ensure the primary_title column in movie_basics_df is unique\n",
    "movie_basics_df = movie_basics_df.drop_duplicates(subset=['primary_title'])\n",
    "\n",
    "# Assign each movie with its corresponding movie_id\n",
    "tn_movie_budgets['movie_id'] = tn_movie_budgets['movie'].map(movie_basics_df.set_index('primary_title')['movie_id'])\n",
    "\n",
    "# Merge the two dataframes on the movie_id column\n",
    "master_movie_df = pd.merge(tn_movie_budgets, movie_basics_df, on='movie_id', how='inner')\n",
    "master_movie_df = master_movie_df.drop(columns=['id', 'primary_title'])\n",
    "master_movie_df.head()"
   ]
  },
  {
   "cell_type": "code",
   "execution_count": 154,
   "metadata": {},
   "outputs": [
    {
     "data": {
      "text/html": [
       "<div>\n",
       "<style scoped>\n",
       "    .dataframe tbody tr th:only-of-type {\n",
       "        vertical-align: middle;\n",
       "    }\n",
       "\n",
       "    .dataframe tbody tr th {\n",
       "        vertical-align: top;\n",
       "    }\n",
       "\n",
       "    .dataframe thead th {\n",
       "        text-align: right;\n",
       "    }\n",
       "</style>\n",
       "<table border=\"1\" class=\"dataframe\">\n",
       "  <thead>\n",
       "    <tr style=\"text-align: right;\">\n",
       "      <th></th>\n",
       "      <th>movie_id</th>\n",
       "      <th>person_id</th>\n",
       "      <th>person_id</th>\n",
       "      <th>primary_name</th>\n",
       "      <th>birth_year</th>\n",
       "      <th>death_year</th>\n",
       "      <th>primary_profession</th>\n",
       "    </tr>\n",
       "  </thead>\n",
       "  <tbody>\n",
       "    <tr>\n",
       "      <th>0</th>\n",
       "      <td>tt0285252</td>\n",
       "      <td>nm0899854</td>\n",
       "      <td>nm0899854</td>\n",
       "      <td>Tony Vitale</td>\n",
       "      <td>1964.0</td>\n",
       "      <td>NaN</td>\n",
       "      <td>producer,director,writer</td>\n",
       "    </tr>\n",
       "    <tr>\n",
       "      <th>1</th>\n",
       "      <td>tt0462036</td>\n",
       "      <td>nm1940585</td>\n",
       "      <td>nm1940585</td>\n",
       "      <td>Bill Haley</td>\n",
       "      <td>NaN</td>\n",
       "      <td>NaN</td>\n",
       "      <td>director,writer,producer</td>\n",
       "    </tr>\n",
       "    <tr>\n",
       "      <th>2</th>\n",
       "      <td>tt0835418</td>\n",
       "      <td>nm0151540</td>\n",
       "      <td>nm0151540</td>\n",
       "      <td>Jay Chandrasekhar</td>\n",
       "      <td>1968.0</td>\n",
       "      <td>NaN</td>\n",
       "      <td>director,actor,writer</td>\n",
       "    </tr>\n",
       "    <tr>\n",
       "      <th>3</th>\n",
       "      <td>tt0835418</td>\n",
       "      <td>nm0151540</td>\n",
       "      <td>nm0151540</td>\n",
       "      <td>Jay Chandrasekhar</td>\n",
       "      <td>1968.0</td>\n",
       "      <td>NaN</td>\n",
       "      <td>director,actor,writer</td>\n",
       "    </tr>\n",
       "    <tr>\n",
       "      <th>4</th>\n",
       "      <td>tt0878654</td>\n",
       "      <td>nm0089502</td>\n",
       "      <td>nm0089502</td>\n",
       "      <td>Albert Pyun</td>\n",
       "      <td>1954.0</td>\n",
       "      <td>NaN</td>\n",
       "      <td>director,writer,producer</td>\n",
       "    </tr>\n",
       "  </tbody>\n",
       "</table>\n",
       "</div>"
      ],
      "text/plain": [
       "    movie_id  person_id  person_id       primary_name  birth_year  death_year  \\\n",
       "0  tt0285252  nm0899854  nm0899854        Tony Vitale      1964.0         NaN   \n",
       "1  tt0462036  nm1940585  nm1940585         Bill Haley         NaN         NaN   \n",
       "2  tt0835418  nm0151540  nm0151540  Jay Chandrasekhar      1968.0         NaN   \n",
       "3  tt0835418  nm0151540  nm0151540  Jay Chandrasekhar      1968.0         NaN   \n",
       "4  tt0878654  nm0089502  nm0089502        Albert Pyun      1954.0         NaN   \n",
       "\n",
       "         primary_profession  \n",
       "0  producer,director,writer  \n",
       "1  director,writer,producer  \n",
       "2     director,actor,writer  \n",
       "3     director,actor,writer  \n",
       "4  director,writer,producer  "
      ]
     },
     "execution_count": 154,
     "metadata": {},
     "output_type": "execute_result"
    }
   ],
   "source": [
    "# In the SQL database, join the directors table with the persons table on the person_id column\n",
    "directors_df = pd.read_sql_query(\"SELECT * FROM directors JOIN persons ON directors.person_id = persons.person_id\", conn)\n",
    "directors_df.head()"
   ]
  },
  {
   "cell_type": "code",
   "execution_count": 155,
   "metadata": {},
   "outputs": [
    {
     "data": {
      "text/html": [
       "<div>\n",
       "<style scoped>\n",
       "    .dataframe tbody tr th:only-of-type {\n",
       "        vertical-align: middle;\n",
       "    }\n",
       "\n",
       "    .dataframe tbody tr th {\n",
       "        vertical-align: top;\n",
       "    }\n",
       "\n",
       "    .dataframe thead th {\n",
       "        text-align: right;\n",
       "    }\n",
       "</style>\n",
       "<table border=\"1\" class=\"dataframe\">\n",
       "  <thead>\n",
       "    <tr style=\"text-align: right;\">\n",
       "      <th></th>\n",
       "      <th>movie_id</th>\n",
       "      <th>person_id</th>\n",
       "      <th>primary_name</th>\n",
       "    </tr>\n",
       "  </thead>\n",
       "  <tbody>\n",
       "    <tr>\n",
       "      <th>0</th>\n",
       "      <td>tt0285252</td>\n",
       "      <td>nm0899854</td>\n",
       "      <td>Tony Vitale</td>\n",
       "    </tr>\n",
       "    <tr>\n",
       "      <th>1</th>\n",
       "      <td>tt0462036</td>\n",
       "      <td>nm1940585</td>\n",
       "      <td>Bill Haley</td>\n",
       "    </tr>\n",
       "    <tr>\n",
       "      <th>2</th>\n",
       "      <td>tt0835418</td>\n",
       "      <td>nm0151540</td>\n",
       "      <td>Jay Chandrasekhar</td>\n",
       "    </tr>\n",
       "    <tr>\n",
       "      <th>4</th>\n",
       "      <td>tt0878654</td>\n",
       "      <td>nm0089502</td>\n",
       "      <td>Albert Pyun</td>\n",
       "    </tr>\n",
       "    <tr>\n",
       "      <th>7</th>\n",
       "      <td>tt0879859</td>\n",
       "      <td>nm2416460</td>\n",
       "      <td>Eric Manchester</td>\n",
       "    </tr>\n",
       "  </tbody>\n",
       "</table>\n",
       "</div>"
      ],
      "text/plain": [
       "    movie_id  person_id       primary_name\n",
       "0  tt0285252  nm0899854        Tony Vitale\n",
       "1  tt0462036  nm1940585         Bill Haley\n",
       "2  tt0835418  nm0151540  Jay Chandrasekhar\n",
       "4  tt0878654  nm0089502        Albert Pyun\n",
       "7  tt0879859  nm2416460    Eric Manchester"
      ]
     },
     "execution_count": 155,
     "metadata": {},
     "output_type": "execute_result"
    }
   ],
   "source": [
    "# Clean\n",
    "directors_df = directors_df.drop(columns=['birth_year', 'death_year', 'primary_profession'])\n",
    "directors_df = directors_df[directors_df['primary_name'].notnull()]\n",
    "directors_df = directors_df.drop_duplicates(subset=['movie_id'])\n",
    "directors_df = directors_df.loc[:,~directors_df.T.duplicated(keep='first')]\n",
    "directors_df.head()"
   ]
  },
  {
   "cell_type": "code",
   "execution_count": 9,
   "metadata": {},
   "outputs": [
    {
     "data": {
      "text/html": [
       "<div>\n",
       "<style scoped>\n",
       "    .dataframe tbody tr th:only-of-type {\n",
       "        vertical-align: middle;\n",
       "    }\n",
       "\n",
       "    .dataframe tbody tr th {\n",
       "        vertical-align: top;\n",
       "    }\n",
       "\n",
       "    .dataframe thead th {\n",
       "        text-align: right;\n",
       "    }\n",
       "</style>\n",
       "<table border=\"1\" class=\"dataframe\">\n",
       "  <thead>\n",
       "    <tr style=\"text-align: right;\">\n",
       "      <th></th>\n",
       "      <th>release_date</th>\n",
       "      <th>movie</th>\n",
       "      <th>production_budget</th>\n",
       "      <th>domestic_gross</th>\n",
       "      <th>worldwide_gross</th>\n",
       "      <th>movie_id</th>\n",
       "      <th>start_year</th>\n",
       "      <th>runtime_minutes</th>\n",
       "      <th>genres</th>\n",
       "      <th>person_id</th>\n",
       "      <th>director</th>\n",
       "    </tr>\n",
       "  </thead>\n",
       "  <tbody>\n",
       "    <tr>\n",
       "      <th>0</th>\n",
       "      <td>May 20, 2011</td>\n",
       "      <td>Pirates of the Caribbean: On Stranger Tides</td>\n",
       "      <td>410600000</td>\n",
       "      <td>241063875</td>\n",
       "      <td>1045663875</td>\n",
       "      <td>tt1298650</td>\n",
       "      <td>2011</td>\n",
       "      <td>136.0</td>\n",
       "      <td>Action|Adventure|Fantasy</td>\n",
       "      <td>nm0551128</td>\n",
       "      <td>Rob Marshall</td>\n",
       "    </tr>\n",
       "    <tr>\n",
       "      <th>1</th>\n",
       "      <td>Jun 7, 2019</td>\n",
       "      <td>Dark Phoenix</td>\n",
       "      <td>350000000</td>\n",
       "      <td>42762350</td>\n",
       "      <td>149762350</td>\n",
       "      <td>tt6565702</td>\n",
       "      <td>2019</td>\n",
       "      <td>113.0</td>\n",
       "      <td>Action|Adventure|Sci-Fi</td>\n",
       "      <td>nm1334526</td>\n",
       "      <td>Simon Kinberg</td>\n",
       "    </tr>\n",
       "    <tr>\n",
       "      <th>2</th>\n",
       "      <td>May 1, 2015</td>\n",
       "      <td>Avengers: Age of Ultron</td>\n",
       "      <td>330600000</td>\n",
       "      <td>459005868</td>\n",
       "      <td>1403013963</td>\n",
       "      <td>tt2395427</td>\n",
       "      <td>2015</td>\n",
       "      <td>141.0</td>\n",
       "      <td>Action|Adventure|Sci-Fi</td>\n",
       "      <td>nm0923736</td>\n",
       "      <td>Joss Whedon</td>\n",
       "    </tr>\n",
       "    <tr>\n",
       "      <th>3</th>\n",
       "      <td>Apr 27, 2018</td>\n",
       "      <td>Avengers: Infinity War</td>\n",
       "      <td>300000000</td>\n",
       "      <td>678815482</td>\n",
       "      <td>2048134200</td>\n",
       "      <td>tt4154756</td>\n",
       "      <td>2018</td>\n",
       "      <td>149.0</td>\n",
       "      <td>Action|Adventure|Sci-Fi</td>\n",
       "      <td>nm0751577</td>\n",
       "      <td>Anthony Russo</td>\n",
       "    </tr>\n",
       "    <tr>\n",
       "      <th>4</th>\n",
       "      <td>Nov 17, 2017</td>\n",
       "      <td>Justice League</td>\n",
       "      <td>300000000</td>\n",
       "      <td>229024295</td>\n",
       "      <td>655945209</td>\n",
       "      <td>tt0974015</td>\n",
       "      <td>2017</td>\n",
       "      <td>120.0</td>\n",
       "      <td>Action|Adventure|Fantasy</td>\n",
       "      <td>nm0811583</td>\n",
       "      <td>Zack Snyder</td>\n",
       "    </tr>\n",
       "  </tbody>\n",
       "</table>\n",
       "</div>"
      ],
      "text/plain": [
       "   release_date                                        movie  \\\n",
       "0  May 20, 2011  Pirates of the Caribbean: On Stranger Tides   \n",
       "1   Jun 7, 2019                                 Dark Phoenix   \n",
       "2   May 1, 2015                      Avengers: Age of Ultron   \n",
       "3  Apr 27, 2018                       Avengers: Infinity War   \n",
       "4  Nov 17, 2017                               Justice League   \n",
       "\n",
       "   production_budget  domestic_gross  worldwide_gross   movie_id  start_year  \\\n",
       "0          410600000       241063875       1045663875  tt1298650        2011   \n",
       "1          350000000        42762350        149762350  tt6565702        2019   \n",
       "2          330600000       459005868       1403013963  tt2395427        2015   \n",
       "3          300000000       678815482       2048134200  tt4154756        2018   \n",
       "4          300000000       229024295        655945209  tt0974015        2017   \n",
       "\n",
       "   runtime_minutes                    genres  person_id       director  \n",
       "0            136.0  Action|Adventure|Fantasy  nm0551128   Rob Marshall  \n",
       "1            113.0   Action|Adventure|Sci-Fi  nm1334526  Simon Kinberg  \n",
       "2            141.0   Action|Adventure|Sci-Fi  nm0923736    Joss Whedon  \n",
       "3            149.0   Action|Adventure|Sci-Fi  nm0751577  Anthony Russo  \n",
       "4            120.0  Action|Adventure|Fantasy  nm0811583    Zack Snyder  "
      ]
     },
     "execution_count": 9,
     "metadata": {},
     "output_type": "execute_result"
    }
   ],
   "source": [
    "# Merge master_movie_df with directors_df on the 'movie_id' column\n",
    "master_movie_df = pd.merge(master_movie_df, directors_df, on='movie_id', how='inner')\n",
    "\n",
    "master_movie_df = master_movie_df.rename(columns={'primary_name': 'director'})\n",
    "master_movie_df.head()"
   ]
  },
  {
   "cell_type": "code",
   "execution_count": 10,
   "metadata": {},
   "outputs": [
    {
     "data": {
      "text/html": [
       "<div>\n",
       "<style scoped>\n",
       "    .dataframe tbody tr th:only-of-type {\n",
       "        vertical-align: middle;\n",
       "    }\n",
       "\n",
       "    .dataframe tbody tr th {\n",
       "        vertical-align: top;\n",
       "    }\n",
       "\n",
       "    .dataframe thead th {\n",
       "        text-align: right;\n",
       "    }\n",
       "</style>\n",
       "<table border=\"1\" class=\"dataframe\">\n",
       "  <thead>\n",
       "    <tr style=\"text-align: right;\">\n",
       "      <th></th>\n",
       "      <th>release_date</th>\n",
       "      <th>movie</th>\n",
       "      <th>production_budget</th>\n",
       "      <th>domestic_gross</th>\n",
       "      <th>worldwide_gross</th>\n",
       "      <th>movie_id</th>\n",
       "      <th>start_year</th>\n",
       "      <th>runtime_minutes</th>\n",
       "      <th>genres</th>\n",
       "      <th>person_id</th>\n",
       "      <th>director</th>\n",
       "    </tr>\n",
       "  </thead>\n",
       "  <tbody>\n",
       "    <tr>\n",
       "      <th>0</th>\n",
       "      <td>May 20, 2011</td>\n",
       "      <td>Pirates of the Caribbean: On Stranger Tides</td>\n",
       "      <td>410600000</td>\n",
       "      <td>241063875</td>\n",
       "      <td>1045663875</td>\n",
       "      <td>tt1298650</td>\n",
       "      <td>2011</td>\n",
       "      <td>136.0</td>\n",
       "      <td>Action|Adventure|Fantasy</td>\n",
       "      <td>nm0551128</td>\n",
       "      <td>Rob Marshall</td>\n",
       "    </tr>\n",
       "    <tr>\n",
       "      <th>1</th>\n",
       "      <td>Jun 7, 2019</td>\n",
       "      <td>Dark Phoenix</td>\n",
       "      <td>350000000</td>\n",
       "      <td>42762350</td>\n",
       "      <td>149762350</td>\n",
       "      <td>tt6565702</td>\n",
       "      <td>2019</td>\n",
       "      <td>113.0</td>\n",
       "      <td>Action|Adventure|Sci-Fi</td>\n",
       "      <td>nm1334526</td>\n",
       "      <td>Simon Kinberg</td>\n",
       "    </tr>\n",
       "    <tr>\n",
       "      <th>2</th>\n",
       "      <td>May 1, 2015</td>\n",
       "      <td>Avengers: Age of Ultron</td>\n",
       "      <td>330600000</td>\n",
       "      <td>459005868</td>\n",
       "      <td>1403013963</td>\n",
       "      <td>tt2395427</td>\n",
       "      <td>2015</td>\n",
       "      <td>141.0</td>\n",
       "      <td>Action|Adventure|Sci-Fi</td>\n",
       "      <td>nm0923736</td>\n",
       "      <td>Joss Whedon</td>\n",
       "    </tr>\n",
       "    <tr>\n",
       "      <th>3</th>\n",
       "      <td>Apr 27, 2018</td>\n",
       "      <td>Avengers: Infinity War</td>\n",
       "      <td>300000000</td>\n",
       "      <td>678815482</td>\n",
       "      <td>2048134200</td>\n",
       "      <td>tt4154756</td>\n",
       "      <td>2018</td>\n",
       "      <td>149.0</td>\n",
       "      <td>Action|Adventure|Sci-Fi</td>\n",
       "      <td>nm0751577</td>\n",
       "      <td>Anthony Russo</td>\n",
       "    </tr>\n",
       "    <tr>\n",
       "      <th>4</th>\n",
       "      <td>Nov 17, 2017</td>\n",
       "      <td>Justice League</td>\n",
       "      <td>300000000</td>\n",
       "      <td>229024295</td>\n",
       "      <td>655945209</td>\n",
       "      <td>tt0974015</td>\n",
       "      <td>2017</td>\n",
       "      <td>120.0</td>\n",
       "      <td>Action|Adventure|Fantasy</td>\n",
       "      <td>nm0811583</td>\n",
       "      <td>Zack Snyder</td>\n",
       "    </tr>\n",
       "  </tbody>\n",
       "</table>\n",
       "</div>"
      ],
      "text/plain": [
       "   release_date                                        movie  \\\n",
       "0  May 20, 2011  Pirates of the Caribbean: On Stranger Tides   \n",
       "1   Jun 7, 2019                                 Dark Phoenix   \n",
       "2   May 1, 2015                      Avengers: Age of Ultron   \n",
       "3  Apr 27, 2018                       Avengers: Infinity War   \n",
       "4  Nov 17, 2017                               Justice League   \n",
       "\n",
       "   production_budget  domestic_gross  worldwide_gross   movie_id  start_year  \\\n",
       "0          410600000       241063875       1045663875  tt1298650        2011   \n",
       "1          350000000        42762350        149762350  tt6565702        2019   \n",
       "2          330600000       459005868       1403013963  tt2395427        2015   \n",
       "3          300000000       678815482       2048134200  tt4154756        2018   \n",
       "4          300000000       229024295        655945209  tt0974015        2017   \n",
       "\n",
       "   runtime_minutes                    genres  person_id       director  \n",
       "0            136.0  Action|Adventure|Fantasy  nm0551128   Rob Marshall  \n",
       "1            113.0   Action|Adventure|Sci-Fi  nm1334526  Simon Kinberg  \n",
       "2            141.0   Action|Adventure|Sci-Fi  nm0923736    Joss Whedon  \n",
       "3            149.0   Action|Adventure|Sci-Fi  nm0751577  Anthony Russo  \n",
       "4            120.0  Action|Adventure|Fantasy  nm0811583    Zack Snyder  "
      ]
     },
     "execution_count": 10,
     "metadata": {},
     "output_type": "execute_result"
    }
   ],
   "source": [
    "master_movie_df = master_movie_df[master_movie_df.domestic_gross > 0]\n",
    "master_movie_df = master_movie_df[master_movie_df.worldwide_gross > 0.0]\n",
    "merged_df = master_movie_df[master_movie_df.production_budget > 0]\n",
    "master_movie_df = master_movie_df.dropna()\n",
    "master_movie_df.head()"
   ]
  },
  {
   "cell_type": "markdown",
   "metadata": {},
   "source": [
    "There are 230 different genres/genre combinations that categorize each movie."
   ]
  },
  {
   "cell_type": "code",
   "execution_count": 11,
   "metadata": {},
   "outputs": [
    {
     "data": {
      "text/plain": [
       "genres\n",
       "Adventure|Animation|Comedy     65\n",
       "Drama                          65\n",
       "Comedy|Drama|Romance           58\n",
       "Comedy|Drama                   57\n",
       "Action|Adventure|Sci-Fi        53\n",
       "                               ..\n",
       "Biography|Documentary           1\n",
       "Comedy|Documentary|Drama        1\n",
       "Comedy|Horror|Sci-Fi            1\n",
       "Adventure|Comedy|Romance        1\n",
       "Biography|Documentary|Music     1\n",
       "Name: count, Length: 230, dtype: int64"
      ]
     },
     "execution_count": 11,
     "metadata": {},
     "output_type": "execute_result"
    }
   ],
   "source": [
    "master_movie_df['genres'].value_counts()"
   ]
  },
  {
   "cell_type": "markdown",
   "metadata": {},
   "source": [
    "Here is a visual depicting the number of films belonging to each genre."
   ]
  },
  {
   "cell_type": "code",
   "execution_count": 12,
   "metadata": {},
   "outputs": [
    {
     "data": {
      "image/png": "[encoded data removed]",
      "text/plain": [
       "<Figure size 1200x600 with 1 Axes>"
      ]
     },
     "metadata": {},
     "output_type": "display_data"
    }
   ],
   "source": [
    "# Count the number of movies in each genre\n",
    "genre_counts = master_movie_df['genres'].value_counts()\n",
    "\n",
    "plt.figure(figsize=(12, 6), facecolor='#a9a9a9')  # Set a darker grey background color\n",
    "ax = plt.gca()  # Get the current axes\n",
    "ax.set_facecolor('#d3d3d3')\n",
    "sns.barplot(x=genre_counts.index, y=genre_counts.values, hue=genre_counts.index, palette='viridis', legend=False)\n",
    "plt.xlabel('Genre')\n",
    "plt.ylabel('Number of Movies')\n",
    "plt.title('Number of Movies in Each Genre')\n",
    "plt.xticks([])  # Remove x-tick labels\n",
    "plt.show()"
   ]
  },
  {
   "cell_type": "markdown",
   "metadata": {},
   "source": [
    "Let's narrow this down."
   ]
  },
  {
   "cell_type": "code",
   "execution_count": 13,
   "metadata": {},
   "outputs": [
    {
     "data": {
      "text/plain": [
       "genres\n",
       "Adventure|Animation|Comedy    65\n",
       "Drama                         65\n",
       "Comedy|Drama|Romance          58\n",
       "Name: count, dtype: int64"
      ]
     },
     "execution_count": 13,
     "metadata": {},
     "output_type": "execute_result"
    }
   ],
   "source": [
    "# Extract the top 3 most frequent movie genres from genre_counts\n",
    "top_genres = genre_counts.head(3)\n",
    "top_genres"
   ]
  },
  {
   "cell_type": "markdown",
   "metadata": {},
   "source": [
    "There are still a significant amount of movies within the three most frequent genres. To determine which movies have seen the most success within a particular genre, let's look at the most prevalent directors and the movies they have headed."
   ]
  },
  {
   "cell_type": "code",
   "execution_count": 64,
   "metadata": {
    "vscode": {
     "languageId": "powershell"
    }
   },
   "outputs": [
    {
     "data": {
      "text/plain": [
       "director\n",
       "Mike Mitchell      4\n",
       "Carlos Saldanha    3\n",
       "Pierre Coffin      2\n",
       "Name: count, dtype: int64"
      ]
     },
     "execution_count": 64,
     "metadata": {},
     "output_type": "execute_result"
    }
   ],
   "source": [
    "aac_movies = master_movie_df[master_movie_df['genres'] == 'Adventure|Animation|Comedy']\n",
    "aac_movies['director'].value_counts().head(3)"
   ]
  },
  {
   "cell_type": "markdown",
   "metadata": {},
   "source": [
    "Here are the four Adventure|Animation|Comedy movies directed by Mike Mitchell."
   ]
  },
  {
   "cell_type": "code",
   "execution_count": 15,
   "metadata": {
    "vscode": {
     "languageId": "powershell"
    }
   },
   "outputs": [
    {
     "data": {
      "text/html": [
       "<div>\n",
       "<style scoped>\n",
       "    .dataframe tbody tr th:only-of-type {\n",
       "        vertical-align: middle;\n",
       "    }\n",
       "\n",
       "    .dataframe tbody tr th {\n",
       "        vertical-align: top;\n",
       "    }\n",
       "\n",
       "    .dataframe thead th {\n",
       "        text-align: right;\n",
       "    }\n",
       "</style>\n",
       "<table border=\"1\" class=\"dataframe\">\n",
       "  <thead>\n",
       "    <tr style=\"text-align: right;\">\n",
       "      <th></th>\n",
       "      <th>release_date</th>\n",
       "      <th>movie</th>\n",
       "      <th>production_budget</th>\n",
       "      <th>domestic_gross</th>\n",
       "      <th>worldwide_gross</th>\n",
       "      <th>movie_id</th>\n",
       "      <th>start_year</th>\n",
       "      <th>runtime_minutes</th>\n",
       "      <th>genres</th>\n",
       "      <th>person_id</th>\n",
       "      <th>director</th>\n",
       "    </tr>\n",
       "  </thead>\n",
       "  <tbody>\n",
       "    <tr>\n",
       "      <th>86</th>\n",
       "      <td>May 21, 2010</td>\n",
       "      <td>Shrek Forever After</td>\n",
       "      <td>165000000</td>\n",
       "      <td>238736787</td>\n",
       "      <td>756244673</td>\n",
       "      <td>tt0892791</td>\n",
       "      <td>2010</td>\n",
       "      <td>93.0</td>\n",
       "      <td>Adventure|Animation|Comedy</td>\n",
       "      <td>nm0593610</td>\n",
       "      <td>Mike Mitchell</td>\n",
       "    </tr>\n",
       "    <tr>\n",
       "      <th>164</th>\n",
       "      <td>Nov 4, 2016</td>\n",
       "      <td>Trolls</td>\n",
       "      <td>125000000</td>\n",
       "      <td>153707064</td>\n",
       "      <td>344150134</td>\n",
       "      <td>tt1679335</td>\n",
       "      <td>2016</td>\n",
       "      <td>92.0</td>\n",
       "      <td>Adventure|Animation|Comedy</td>\n",
       "      <td>nm0593610</td>\n",
       "      <td>Mike Mitchell</td>\n",
       "    </tr>\n",
       "    <tr>\n",
       "      <th>267</th>\n",
       "      <td>Dec 16, 2011</td>\n",
       "      <td>Alvin and the Chipmunks: Chipwrecked</td>\n",
       "      <td>80000000</td>\n",
       "      <td>133107389</td>\n",
       "      <td>349088523</td>\n",
       "      <td>tt1615918</td>\n",
       "      <td>2011</td>\n",
       "      <td>87.0</td>\n",
       "      <td>Adventure|Animation|Comedy</td>\n",
       "      <td>nm0593610</td>\n",
       "      <td>Mike Mitchell</td>\n",
       "    </tr>\n",
       "    <tr>\n",
       "      <th>294</th>\n",
       "      <td>Feb 6, 2015</td>\n",
       "      <td>The SpongeBob Movie: Sponge Out of Water</td>\n",
       "      <td>74000000</td>\n",
       "      <td>162994032</td>\n",
       "      <td>311013181</td>\n",
       "      <td>tt2279373</td>\n",
       "      <td>2015</td>\n",
       "      <td>92.0</td>\n",
       "      <td>Adventure|Animation|Comedy</td>\n",
       "      <td>nm0593610</td>\n",
       "      <td>Mike Mitchell</td>\n",
       "    </tr>\n",
       "  </tbody>\n",
       "</table>\n",
       "</div>"
      ],
      "text/plain": [
       "     release_date                                     movie  \\\n",
       "86   May 21, 2010                       Shrek Forever After   \n",
       "164   Nov 4, 2016                                    Trolls   \n",
       "267  Dec 16, 2011      Alvin and the Chipmunks: Chipwrecked   \n",
       "294   Feb 6, 2015  The SpongeBob Movie: Sponge Out of Water   \n",
       "\n",
       "     production_budget  domestic_gross  worldwide_gross   movie_id  \\\n",
       "86           165000000       238736787        756244673  tt0892791   \n",
       "164          125000000       153707064        344150134  tt1679335   \n",
       "267           80000000       133107389        349088523  tt1615918   \n",
       "294           74000000       162994032        311013181  tt2279373   \n",
       "\n",
       "     start_year  runtime_minutes                      genres  person_id  \\\n",
       "86         2010             93.0  Adventure|Animation|Comedy  nm0593610   \n",
       "164        2016             92.0  Adventure|Animation|Comedy  nm0593610   \n",
       "267        2011             87.0  Adventure|Animation|Comedy  nm0593610   \n",
       "294        2015             92.0  Adventure|Animation|Comedy  nm0593610   \n",
       "\n",
       "          director  \n",
       "86   Mike Mitchell  \n",
       "164  Mike Mitchell  \n",
       "267  Mike Mitchell  \n",
       "294  Mike Mitchell  "
      ]
     },
     "execution_count": 15,
     "metadata": {},
     "output_type": "execute_result"
    }
   ],
   "source": [
    "aac_movies[aac_movies['director'] == 'Mike Mitchell']"
   ]
  },
  {
   "cell_type": "markdown",
   "metadata": {},
   "source": [
    "Here is a visualization showcasing the range of production budgets, so we can better understand the significance of Mike Mitchell's figures."
   ]
  },
  {
   "cell_type": "code",
   "execution_count": 107,
   "metadata": {},
   "outputs": [
    {
     "data": {
      "image/png": "[encoded data removed]",
      "text/plain": [
       "<Figure size 1200x600 with 1 Axes>"
      ]
     },
     "metadata": {},
     "output_type": "display_data"
    }
   ],
   "source": [
    "plt.figure(figsize=(12, 6), facecolor='#a9a9a9')  # Set a darker grey background color\n",
    "ax = plt.gca()  # Get the current axes\n",
    "ax.set_facecolor('#d3d3d3')\n",
    "sns.histplot(aac_movies['production_budget'], bins=20, kde=True, color='blue')\n",
    "plt.xlabel('Production Budget (Hundreds of Millions USD)')\n",
    "plt.ylabel('Number of Movies')\n",
    "plt.title('Distribution of Production Budgets for Adventure|Animation|Comedy Movies')\n",
    "plt.show()\n"
   ]
  },
  {
   "cell_type": "code",
   "execution_count": 75,
   "metadata": {
    "vscode": {
     "languageId": "powershell"
    }
   },
   "outputs": [
    {
     "data": {
      "text/plain": [
       "count    6.500000e+01\n",
       "mean     1.000692e+08\n",
       "std      5.432180e+07\n",
       "min      1.800000e+07\n",
       "25%      6.000000e+07\n",
       "50%      8.000000e+07\n",
       "75%      1.350000e+08\n",
       "max      2.600000e+08\n",
       "Name: production_budget, dtype: float64"
      ]
     },
     "execution_count": 75,
     "metadata": {},
     "output_type": "execute_result"
    }
   ],
   "source": [
    "aac_movies['production_budget'].describe()"
   ]
  },
  {
   "cell_type": "markdown",
   "metadata": {},
   "source": [
    "According to the chart and descriptive statistics of this parameter, 50% of all `Adventure|Animation|Comedy` movies have a budget less than **$80,000,000** for production. \n",
    "\n",
    "This means that Mike Mitchell received an incredibly high budget for his work on _Shrek Forever After_ and _Trolls_. He likely has a great reputation as a director, earning him a higher production budget (**$165,000,000** and **$125,000,000**, respectively).\n",
    "\n",
    "Let's compare the revenue figures of those two movies to other `Adventure|Animation|Comedy` films."
   ]
  },
  {
   "cell_type": "code",
   "execution_count": 145,
   "metadata": {},
   "outputs": [
    {
     "data": {
      "image/png": "[encoded data removed]",
      "text/plain": [
       "<Figure size 1400x700 with 2 Axes>"
      ]
     },
     "metadata": {},
     "output_type": "display_data"
    }
   ],
   "source": [
    "plt.figure(figsize=(14, 7))\n",
    "\n",
    "# Plot worldwide gross\n",
    "sns.histplot(aac_movies['worldwide_gross'], bins=30, kde=True, label='Worldwide Gross')\n",
    "plt.xlabel('Gross (USD)')\n",
    "plt.ylabel('Number of Movies (Worldwide Gross)')\n",
    "plt.title('Distribution of Domestic and Worldwide Gross for Adventure|Animation|Comedy Movies')\n",
    "plt.yticks(np.arange(0, 8.5, step=1))\n",
    "plt.ylim(0, 8.5)\n",
    "\n",
    "# Create a secondary y-axis for domestic gross\n",
    "ax2 = plt.gca().twinx()\n",
    "sns.histplot(aac_movies['domestic_gross'], bins=30, kde=True, label='Domestic Gross', color='red', ax=ax2)\n",
    "ax2.set_ylabel('Number of Movies (Domestic Gross)')\n",
    "ax2.set_yticks(np.arange(0, 8.5, step=1))\n",
    "ax2.set_ylim(0, 8.5)\n",
    "\n",
    "# Add legends\n",
    "plt.legend(loc='upper right')\n",
    "\n",
    "# Adjust the number of ticks and labels to match\n",
    "ticks = np.arange(0, aac_movies['worldwide_gross'].max() + 1e8, step=1e8)\n",
    "labels = [f'{int(tick/1e8)}00M' if tick < 1e9 else f'{tick/1e9:.1f}B' for tick in ticks]\n",
    "labels[0] = '0'\n",
    "plt.xticks(ticks, labels)\n",
    "\n",
    "plt.show()"
   ]
  },
  {
   "cell_type": "code",
   "execution_count": 146,
   "metadata": {},
   "outputs": [
    {
     "data": {
      "text/plain": [
       "count    6.500000e+01\n",
       "mean     1.340565e+08\n",
       "std      1.059739e+08\n",
       "min      4.091000e+03\n",
       "25%      5.600305e+07\n",
       "50%      1.080853e+08\n",
       "75%      1.750030e+08\n",
       "max      4.862956e+08\n",
       "Name: domestic_gross, dtype: float64"
      ]
     },
     "execution_count": 146,
     "metadata": {},
     "output_type": "execute_result"
    }
   ],
   "source": [
    "aac_movies['domestic_gross'].describe()"
   ]
  },
  {
   "cell_type": "code",
   "execution_count": 2,
   "metadata": {},
   "outputs": [
    {
     "ename": "NameError",
     "evalue": "name 'aac_movies' is not defined",
     "output_type": "error",
     "traceback": [
      "\u001b[0;31m---------------------------------------------------------------------------\u001b[0m",
      "\u001b[0;31mNameError\u001b[0m                                 Traceback (most recent call last)",
      "Cell \u001b[0;32mIn[2], line 1\u001b[0m\n\u001b[0;32m----> 1\u001b[0m \u001b[43maac_movies\u001b[49m[\u001b[38;5;124m'\u001b[39m\u001b[38;5;124mworldwide_gross\u001b[39m\u001b[38;5;124m'\u001b[39m]\u001b[38;5;241m.\u001b[39mdescribe()\n",
      "\u001b[0;31mNameError\u001b[0m: name 'aac_movies' is not defined"
     ]
    }
   ],
   "source": [
    "aac_movies['worldwide_gross'].describe()"
   ]
  },
  {
   "cell_type": "markdown",
   "metadata": {},
   "source": [
    "_Shrek Forever After_ and _Trolls_ earned **$238,736,787** and **$153,707,064** in gross domestic revenue, respectively.\n",
    "\n",
    "Compared to 50% of movies that earned less than ~**$108,085,000** in gross domestic revenue, these are tremendously significant figures.\n",
    "\n",
    "***\n",
    "\n",
    "Adding on to that, both movies earned **$756,244,673** and **$344,150,134** in gross worldwide revenue, respectively. \n",
    "\n",
    "Compared to 50% of movies that earned less than ~**$286,896,000** in gross worldwide revenue, these figures are doubly significant.\n",
    "\n",
    "It can be said with certainty that Mike Mitchell directs highly successful `Adventure|Animation|Comedy` films when given a large production budget."
   ]
  },
  {
   "cell_type": "markdown",
   "metadata": {},
   "source": [
    "### Repeat the process for `Drama` films."
   ]
  },
  {
   "cell_type": "code",
   "execution_count": 49,
   "metadata": {},
   "outputs": [
    {
     "data": {
      "text/plain": [
       "director\n",
       "Alex Kendrick       2\n",
       "Kenneth Lonergan    2\n",
       "Muzaffer Özdemir    1\n",
       "Name: count, dtype: int64"
      ]
     },
     "execution_count": 49,
     "metadata": {},
     "output_type": "execute_result"
    }
   ],
   "source": [
    "dram_movies = master_movie_df[master_movie_df['genres'] == 'Drama']\n",
    "\n",
    "dram_movies['director'].value_counts().head(3)"
   ]
  },
  {
   "cell_type": "code",
   "execution_count": 50,
   "metadata": {},
   "outputs": [
    {
     "data": {
      "text/html": [
       "<div>\n",
       "<style scoped>\n",
       "    .dataframe tbody tr th:only-of-type {\n",
       "        vertical-align: middle;\n",
       "    }\n",
       "\n",
       "    .dataframe tbody tr th {\n",
       "        vertical-align: top;\n",
       "    }\n",
       "\n",
       "    .dataframe thead th {\n",
       "        text-align: right;\n",
       "    }\n",
       "</style>\n",
       "<table border=\"1\" class=\"dataframe\">\n",
       "  <thead>\n",
       "    <tr style=\"text-align: right;\">\n",
       "      <th></th>\n",
       "      <th>release_date</th>\n",
       "      <th>movie</th>\n",
       "      <th>production_budget</th>\n",
       "      <th>domestic_gross</th>\n",
       "      <th>worldwide_gross</th>\n",
       "      <th>movie_id</th>\n",
       "      <th>start_year</th>\n",
       "      <th>runtime_minutes</th>\n",
       "      <th>genres</th>\n",
       "      <th>person_id</th>\n",
       "      <th>director</th>\n",
       "    </tr>\n",
       "  </thead>\n",
       "  <tbody>\n",
       "    <tr>\n",
       "      <th>1417</th>\n",
       "      <td>Aug 28, 2015</td>\n",
       "      <td>War Room</td>\n",
       "      <td>3000000</td>\n",
       "      <td>67790117</td>\n",
       "      <td>73975239</td>\n",
       "      <td>tt3832914</td>\n",
       "      <td>2015</td>\n",
       "      <td>120.0</td>\n",
       "      <td>Drama</td>\n",
       "      <td>nm1731937</td>\n",
       "      <td>Alex Kendrick</td>\n",
       "    </tr>\n",
       "    <tr>\n",
       "      <th>1480</th>\n",
       "      <td>Sep 30, 2011</td>\n",
       "      <td>Courageous</td>\n",
       "      <td>2000000</td>\n",
       "      <td>34522221</td>\n",
       "      <td>35185884</td>\n",
       "      <td>tt1630036</td>\n",
       "      <td>2011</td>\n",
       "      <td>129.0</td>\n",
       "      <td>Drama</td>\n",
       "      <td>nm1731937</td>\n",
       "      <td>Alex Kendrick</td>\n",
       "    </tr>\n",
       "  </tbody>\n",
       "</table>\n",
       "</div>"
      ],
      "text/plain": [
       "      release_date       movie  production_budget  domestic_gross  \\\n",
       "1417  Aug 28, 2015    War Room            3000000        67790117   \n",
       "1480  Sep 30, 2011  Courageous            2000000        34522221   \n",
       "\n",
       "      worldwide_gross   movie_id  start_year  runtime_minutes genres  \\\n",
       "1417         73975239  tt3832914        2015            120.0  Drama   \n",
       "1480         35185884  tt1630036        2011            129.0  Drama   \n",
       "\n",
       "      person_id       director  \n",
       "1417  nm1731937  Alex Kendrick  \n",
       "1480  nm1731937  Alex Kendrick  "
      ]
     },
     "execution_count": 50,
     "metadata": {},
     "output_type": "execute_result"
    }
   ],
   "source": [
    "dram_movies[dram_movies['director'] == 'Alex Kendrick']"
   ]
  },
  {
   "cell_type": "code",
   "execution_count": 108,
   "metadata": {},
   "outputs": [
    {
     "data": {
      "image/png": "[encoded data removed]",
      "text/plain": [
       "<Figure size 1200x600 with 1 Axes>"
      ]
     },
     "metadata": {},
     "output_type": "display_data"
    }
   ],
   "source": [
    "plt.figure(figsize=(12, 6), facecolor='#a9a9a9')  # Set a darker grey background color\n",
    "ax = plt.gca()  # Get the current axes\n",
    "ax.set_facecolor('#d3d3d3')\n",
    "sns.histplot(dram_movies['production_budget'], bins=20, kde=True, color='blue')\n",
    "plt.xlabel('Production Budget (Hundreds of Millions USD)')\n",
    "plt.ylabel('Number of Movies')\n",
    "plt.title('Distribution of Production Budgets for Drama Movies')\n",
    "plt.show()"
   ]
  },
  {
   "cell_type": "code",
   "execution_count": 104,
   "metadata": {},
   "outputs": [
    {
     "data": {
      "text/plain": [
       "count    6.500000e+01\n",
       "mean     1.522857e+07\n",
       "std      2.291511e+07\n",
       "min      2.700000e+04\n",
       "25%      2.000000e+06\n",
       "50%      8.000000e+06\n",
       "75%      2.000000e+07\n",
       "max      1.300000e+08\n",
       "Name: production_budget, dtype: float64"
      ]
     },
     "execution_count": 104,
     "metadata": {},
     "output_type": "execute_result"
    }
   ],
   "source": [
    "dram_movies['production_budget'].describe()"
   ]
  },
  {
   "cell_type": "markdown",
   "metadata": {},
   "source": [
    "Alex Kendrick's production budgets of **$3,000,000** for *War Room* and **$2,000,000** for *Courageous* are significantly small, compared to other `Drama` films, which average ~**$15,000,000**."
   ]
  },
  {
   "cell_type": "code",
   "execution_count": 144,
   "metadata": {},
   "outputs": [
    {
     "data": {
      "image/png": "[encoded data removed]",
      "text/plain": [
       "<Figure size 1400x700 with 2 Axes>"
      ]
     },
     "metadata": {},
     "output_type": "display_data"
    }
   ],
   "source": [
    "plt.figure(figsize=(14, 7))\n",
    "\n",
    "# Plot worldwide gross\n",
    "sns.histplot(dram_movies['worldwide_gross'], bins=30, kde=True, label='Worldwide Gross')\n",
    "plt.xlabel('Gross (USD)')\n",
    "plt.ylabel('Number of Movies (Worldwide Gross)')\n",
    "plt.title('Distribution of Domestic and Worldwide Gross for Drama Movies')\n",
    "plt.yticks(np.arange(0, 37.5, step=5))\n",
    "plt.ylim(0, 37.5)\n",
    "\n",
    "# Create a secondary y-axis for domestic gross\n",
    "ax2 = plt.gca().twinx()\n",
    "sns.histplot(dram_movies['domestic_gross'], bins=30, kde=True, label='Domestic Gross', color='red', ax=ax2)\n",
    "ax2.set_ylabel('Number of Movies (Domestic Gross)')\n",
    "ax2.set_yticks(np.arange(0, 35.5, step=5))\n",
    "ax2.set_ylim(0, 37.5)\n",
    "\n",
    "# Add legends\n",
    "plt.legend(loc='upper right')\n",
    "\n",
    "# Adjust the number of ticks and labels to match\n",
    "ticks = np.arange(0, dram_movies['worldwide_gross'].max() + 5e7, step=5e7)\n",
    "labels = [f'{int(tick/1e7)}0M' if tick < 1e9 else f'{tick/1e9:.1f}B' for tick in ticks]\n",
    "labels[0] = '0'\n",
    "plt.xticks(ticks, labels)\n",
    "\n",
    "plt.show()"
   ]
  },
  {
   "cell_type": "code",
   "execution_count": 113,
   "metadata": {},
   "outputs": [
    {
     "data": {
      "text/plain": [
       "count    6.500000e+01\n",
       "mean     2.356561e+07\n",
       "std      4.030571e+07\n",
       "min      2.636000e+03\n",
       "25%      4.541210e+05\n",
       "50%      5.310554e+06\n",
       "75%      3.144501e+07\n",
       "max      1.773975e+08\n",
       "Name: domestic_gross, dtype: float64"
      ]
     },
     "execution_count": 113,
     "metadata": {},
     "output_type": "execute_result"
    }
   ],
   "source": [
    "dram_movies['domestic_gross'].describe()"
   ]
  },
  {
   "cell_type": "code",
   "execution_count": 114,
   "metadata": {},
   "outputs": [
    {
     "data": {
      "text/plain": [
       "count    6.500000e+01\n",
       "mean     3.932068e+07\n",
       "std      6.749499e+07\n",
       "min      2.636000e+03\n",
       "25%      7.974390e+05\n",
       "50%      1.239456e+07\n",
       "75%      5.064742e+07\n",
       "max      3.859979e+08\n",
       "Name: worldwide_gross, dtype: float64"
      ]
     },
     "execution_count": 114,
     "metadata": {},
     "output_type": "execute_result"
    }
   ],
   "source": [
    "dram_movies['worldwide_gross'].describe()"
   ]
  },
  {
   "cell_type": "markdown",
   "metadata": {},
   "source": [
    "50% of Domestic Gross for `Drama` films: ~**$5,310,000**\n",
    "\n",
    "* Alex Kendrick's Gross Domestic Revenue on *War Room*: **$67,790,117**\n",
    "\n",
    "* For *Courageous*: **$34,522,221**\n",
    "\n",
    "50% of Worldwide Gross for `Drama` films: ~**$12,395,000**\n",
    "\n",
    "* Alex Kendrick's Gross Worldwide Revenue on *War Room*: **$73,975,239**\n",
    "\n",
    "* For *Courageous*: **$35,185,884**"
   ]
  },
  {
   "cell_type": "markdown",
   "metadata": {},
   "source": [
    "Despite receiving a tremendously low production budget, Alex Kendrick accomplished an admirable feat. He brought in almost triple the amount of worldwide revenue from his film *Courageous* that 50% of other `Drama` films brought in. If you thought that was impressive, with *War Room*, he almost sextupled that figure.\n",
    "\n",
    "He achieved these revenue figures on a budget that was 20% of the genre's *average* budget."
   ]
  },
  {
   "cell_type": "markdown",
   "metadata": {},
   "source": [
    "### Repeat the process for `Comedy|Drama|Romance` films"
   ]
  },
  {
   "cell_type": "code",
   "execution_count": 128,
   "metadata": {},
   "outputs": [
    {
     "data": {
      "text/plain": [
       "director\n",
       "Greg Berlanti    2\n",
       "Tom Tykwer       2\n",
       "Rob Reiner       2\n",
       "Name: count, dtype: int64"
      ]
     },
     "execution_count": 128,
     "metadata": {},
     "output_type": "execute_result"
    }
   ],
   "source": [
    "cdr_movies = master_movie_df[master_movie_df['genres'] == 'Comedy|Drama|Romance']\n",
    "\n",
    "cdr_movies['director'].value_counts().head(3)"
   ]
  },
  {
   "cell_type": "code",
   "execution_count": 130,
   "metadata": {},
   "outputs": [
    {
     "data": {
      "text/html": [
       "<div>\n",
       "<style scoped>\n",
       "    .dataframe tbody tr th:only-of-type {\n",
       "        vertical-align: middle;\n",
       "    }\n",
       "\n",
       "    .dataframe tbody tr th {\n",
       "        vertical-align: top;\n",
       "    }\n",
       "\n",
       "    .dataframe thead th {\n",
       "        text-align: right;\n",
       "    }\n",
       "</style>\n",
       "<table border=\"1\" class=\"dataframe\">\n",
       "  <thead>\n",
       "    <tr style=\"text-align: right;\">\n",
       "      <th></th>\n",
       "      <th>release_date</th>\n",
       "      <th>movie</th>\n",
       "      <th>production_budget</th>\n",
       "      <th>domestic_gross</th>\n",
       "      <th>worldwide_gross</th>\n",
       "      <th>movie_id</th>\n",
       "      <th>start_year</th>\n",
       "      <th>runtime_minutes</th>\n",
       "      <th>genres</th>\n",
       "      <th>person_id</th>\n",
       "      <th>director</th>\n",
       "    </tr>\n",
       "  </thead>\n",
       "  <tbody>\n",
       "    <tr>\n",
       "      <th>534</th>\n",
       "      <td>Oct 8, 2010</td>\n",
       "      <td>Life as We Know It</td>\n",
       "      <td>38000000</td>\n",
       "      <td>53374681</td>\n",
       "      <td>105887837</td>\n",
       "      <td>tt1055292</td>\n",
       "      <td>2010</td>\n",
       "      <td>114.0</td>\n",
       "      <td>Comedy|Drama|Romance</td>\n",
       "      <td>nm0075528</td>\n",
       "      <td>Greg Berlanti</td>\n",
       "    </tr>\n",
       "    <tr>\n",
       "      <th>1099</th>\n",
       "      <td>Mar 16, 2018</td>\n",
       "      <td>Love, Simon</td>\n",
       "      <td>10000000</td>\n",
       "      <td>40826341</td>\n",
       "      <td>65520633</td>\n",
       "      <td>tt5164432</td>\n",
       "      <td>2018</td>\n",
       "      <td>110.0</td>\n",
       "      <td>Comedy|Drama|Romance</td>\n",
       "      <td>nm0075528</td>\n",
       "      <td>Greg Berlanti</td>\n",
       "    </tr>\n",
       "  </tbody>\n",
       "</table>\n",
       "</div>"
      ],
      "text/plain": [
       "      release_date               movie  production_budget  domestic_gross  \\\n",
       "534    Oct 8, 2010  Life as We Know It           38000000        53374681   \n",
       "1099  Mar 16, 2018         Love, Simon           10000000        40826341   \n",
       "\n",
       "      worldwide_gross   movie_id  start_year  runtime_minutes  \\\n",
       "534         105887837  tt1055292        2010            114.0   \n",
       "1099         65520633  tt5164432        2018            110.0   \n",
       "\n",
       "                    genres  person_id       director  \n",
       "534   Comedy|Drama|Romance  nm0075528  Greg Berlanti  \n",
       "1099  Comedy|Drama|Romance  nm0075528  Greg Berlanti  "
      ]
     },
     "execution_count": 130,
     "metadata": {},
     "output_type": "execute_result"
    }
   ],
   "source": [
    "cdr_movies[cdr_movies['director'] == 'Greg Berlanti']"
   ]
  },
  {
   "cell_type": "code",
   "execution_count": 135,
   "metadata": {},
   "outputs": [
    {
     "data": {
      "image/png": "[encoded data removed]",
      "text/plain": [
       "<Figure size 1200x600 with 1 Axes>"
      ]
     },
     "metadata": {},
     "output_type": "display_data"
    }
   ],
   "source": [
    "plt.figure(figsize=(12, 6), facecolor='#a9a9a9')  # Set a darker grey background color\n",
    "ax = plt.gca()  # Get the current axes\n",
    "ax.set_facecolor('#d3d3d3')\n",
    "sns.histplot(cdr_movies['production_budget'], bins=20, kde=True, color='k')\n",
    "plt.xlabel('Production Budget (Tens of Millions USD)')\n",
    "plt.ylabel('Number of Movies')\n",
    "plt.title('Distribution of Production Budgets for Comedy|Drama|Romance Movies')\n",
    "plt.show();"
   ]
  },
  {
   "cell_type": "code",
   "execution_count": 136,
   "metadata": {},
   "outputs": [
    {
     "data": {
      "text/plain": [
       "count    5.800000e+01\n",
       "mean     1.351767e+07\n",
       "std      1.620198e+07\n",
       "min      5.000000e+04\n",
       "25%      3.000000e+06\n",
       "50%      8.000000e+06\n",
       "75%      1.875000e+07\n",
       "max      9.500000e+07\n",
       "Name: production_budget, dtype: float64"
      ]
     },
     "execution_count": 136,
     "metadata": {},
     "output_type": "execute_result"
    }
   ],
   "source": [
    "cdr_movies['production_budget'].describe()"
   ]
  },
  {
   "cell_type": "markdown",
   "metadata": {},
   "source": [
    "Greg Berlanti's production budget for his film *Life as We Know It* was **$38,000,000**, which is more than double the budget for 75% of other films in the genre.\n",
    "\n",
    "His budget for *Love, Simon* was **$10,000,000**, a figure on par with 50% of movies in the genre."
   ]
  },
  {
   "cell_type": "code",
   "execution_count": 142,
   "metadata": {},
   "outputs": [
    {
     "data": {
      "image/png": "[encoded data removed]",
      "text/plain": [
       "<Figure size 1400x700 with 2 Axes>"
      ]
     },
     "metadata": {},
     "output_type": "display_data"
    }
   ],
   "source": [
    "plt.figure(figsize=(14, 7))\n",
    "\n",
    "# Plot worldwide gross\n",
    "sns.histplot(cdr_movies['worldwide_gross'], bins=30, kde=True, label='Worldwide Gross')\n",
    "plt.xlabel('Gross (USD)')\n",
    "plt.ylabel('Number of Movies (Worldwide Gross)')\n",
    "plt.title('Distribution of Domestic and Worldwide Gross for Comedy|Drama|Romance Movies')\n",
    "plt.yticks(np.arange(0, 27.5, step=5))\n",
    "plt.ylim(0, 27.5)\n",
    "\n",
    "# Create a secondary y-axis for domestic gross\n",
    "ax2 = plt.gca().twinx()\n",
    "sns.histplot(cdr_movies['domestic_gross'], bins=30, kde=True, label='Domestic Gross', color='red', ax=ax2)\n",
    "ax2.set_ylabel('Number of Movies (Domestic Gross)')\n",
    "ax2.set_yticks(np.arange(0, 27.5, step=5))\n",
    "ax2.set_ylim(0, 27.5)\n",
    "\n",
    "# Add legends\n",
    "plt.legend(loc='upper right')\n",
    "\n",
    "# Adjust the number of ticks and labels to match\n",
    "ticks = np.arange(0, cdr_movies['worldwide_gross'].max() + 5e7, step=5e7)\n",
    "labels = [f'{int(tick/1e7)}0M' if tick < 1e9 else f'{tick/1e9:.1f}B' for tick in ticks]\n",
    "labels[0] = '0'\n",
    "plt.xticks(ticks, labels)\n",
    "\n",
    "plt.show();"
   ]
  },
  {
   "cell_type": "code",
   "execution_count": 147,
   "metadata": {},
   "outputs": [
    {
     "data": {
      "text/plain": [
       "count    5.800000e+01\n",
       "mean     2.309067e+07\n",
       "std      2.917344e+07\n",
       "min      2.602000e+03\n",
       "25%      1.851765e+06\n",
       "50%      6.890520e+06\n",
       "75%      3.922329e+07\n",
       "max      1.320930e+08\n",
       "Name: domestic_gross, dtype: float64"
      ]
     },
     "execution_count": 147,
     "metadata": {},
     "output_type": "execute_result"
    }
   ],
   "source": [
    "cdr_movies['domestic_gross'].describe()"
   ]
  },
  {
   "cell_type": "code",
   "execution_count": 148,
   "metadata": {},
   "outputs": [
    {
     "data": {
      "text/plain": [
       "count    5.800000e+01\n",
       "mean     4.305613e+07\n",
       "std      5.995763e+07\n",
       "min      2.602000e+03\n",
       "25%      4.323074e+06\n",
       "50%      1.611721e+07\n",
       "75%      6.129462e+07\n",
       "max      2.946808e+08\n",
       "Name: worldwide_gross, dtype: float64"
      ]
     },
     "execution_count": 148,
     "metadata": {},
     "output_type": "execute_result"
    }
   ],
   "source": [
    "cdr_movies['worldwide_gross'].describe()"
   ]
  },
  {
   "cell_type": "markdown",
   "metadata": {},
   "source": [
    "***\n",
    "\n",
    "50% of other `Comedy|Drama|Romance` films:\n",
    "\n",
    "* Domestic: ~**$6,890,000**\n",
    "\n",
    "* Worldwide: ~**$16,000,000**\n",
    "\n",
    "*Life as We Know It*:\n",
    "\n",
    "* Domestic: **$53,374,681**\n",
    "\n",
    "* Worldwide: **$105,887,837**\n",
    "\n",
    "*Love, Simon*:\n",
    "\n",
    "* Domestic: **$40,826,341**\n",
    "\n",
    "* Worldwide: **$65,520,633**\n",
    "\n",
    "***"
   ]
  },
  {
   "cell_type": "markdown",
   "metadata": {},
   "source": [
    "Here, we can see that Greg Berlanti significantly outperformed other films in the genre. However, something important to note is that his budget for *Life as We Know It* was incredibly high, compared to other `Comedy|Drama|Romance` films. On the other hand, his budget for *Love, Simon* was nearly 25% of his other film's.\n",
    "\n",
    "If we compare this metrics deeper:\n",
    "\n",
    "With a budget of **$10,000,000** for *Love, Simon* and a gross domestic of **$40,826,341**, he realized about a 308.26% profit, assuming he spent all of his budget.\n",
    "\n",
    "With a budget of **$38,000,000** for *Life as We Know It* and a gross domestic of **$53,374,681**, he realized about a 40.46% profit, assuming he spent all of his budget."
   ]
  },
  {
   "cell_type": "markdown",
   "metadata": {},
   "source": [
    "These are two very different cases for Greg Berlanti. Perhaps, a little too inconsistent to recommend him as a good director for a `Comedy|Drama|Romance` film. \n",
    "\n",
    "Let's look at the other directors."
   ]
  },
  {
   "cell_type": "code",
   "execution_count": 156,
   "metadata": {},
   "outputs": [
    {
     "data": {
      "text/plain": [
       "director\n",
       "Greg Berlanti    2\n",
       "Tom Tykwer       2\n",
       "Rob Reiner       2\n",
       "Name: count, dtype: int64"
      ]
     },
     "execution_count": 156,
     "metadata": {},
     "output_type": "execute_result"
    }
   ],
   "source": [
    "cdr_movies['director'].value_counts().head(3)"
   ]
  },
  {
   "cell_type": "code",
   "execution_count": 157,
   "metadata": {},
   "outputs": [
    {
     "data": {
      "text/html": [
       "<div>\n",
       "<style scoped>\n",
       "    .dataframe tbody tr th:only-of-type {\n",
       "        vertical-align: middle;\n",
       "    }\n",
       "\n",
       "    .dataframe tbody tr th {\n",
       "        vertical-align: top;\n",
       "    }\n",
       "\n",
       "    .dataframe thead th {\n",
       "        text-align: right;\n",
       "    }\n",
       "</style>\n",
       "<table border=\"1\" class=\"dataframe\">\n",
       "  <thead>\n",
       "    <tr style=\"text-align: right;\">\n",
       "      <th></th>\n",
       "      <th>release_date</th>\n",
       "      <th>movie</th>\n",
       "      <th>production_budget</th>\n",
       "      <th>domestic_gross</th>\n",
       "      <th>worldwide_gross</th>\n",
       "      <th>movie_id</th>\n",
       "      <th>start_year</th>\n",
       "      <th>runtime_minutes</th>\n",
       "      <th>genres</th>\n",
       "      <th>person_id</th>\n",
       "      <th>director</th>\n",
       "    </tr>\n",
       "  </thead>\n",
       "  <tbody>\n",
       "    <tr>\n",
       "      <th>598</th>\n",
       "      <td>Apr 22, 2016</td>\n",
       "      <td>A Hologram for the King</td>\n",
       "      <td>35000000</td>\n",
       "      <td>4212494</td>\n",
       "      <td>11846010</td>\n",
       "      <td>tt2980210</td>\n",
       "      <td>2016</td>\n",
       "      <td>98.0</td>\n",
       "      <td>Comedy|Drama|Romance</td>\n",
       "      <td>nm0878756</td>\n",
       "      <td>Tom Tykwer</td>\n",
       "    </tr>\n",
       "    <tr>\n",
       "      <th>1230</th>\n",
       "      <td>Sep 16, 2011</td>\n",
       "      <td>3</td>\n",
       "      <td>7200000</td>\n",
       "      <td>59774</td>\n",
       "      <td>295492</td>\n",
       "      <td>tt1517177</td>\n",
       "      <td>2010</td>\n",
       "      <td>119.0</td>\n",
       "      <td>Comedy|Drama|Romance</td>\n",
       "      <td>nm0878756</td>\n",
       "      <td>Tom Tykwer</td>\n",
       "    </tr>\n",
       "  </tbody>\n",
       "</table>\n",
       "</div>"
      ],
      "text/plain": [
       "      release_date                    movie  production_budget  \\\n",
       "598   Apr 22, 2016  A Hologram for the King           35000000   \n",
       "1230  Sep 16, 2011                        3            7200000   \n",
       "\n",
       "      domestic_gross  worldwide_gross   movie_id  start_year  runtime_minutes  \\\n",
       "598          4212494         11846010  tt2980210        2016             98.0   \n",
       "1230           59774           295492  tt1517177        2010            119.0   \n",
       "\n",
       "                    genres  person_id    director  \n",
       "598   Comedy|Drama|Romance  nm0878756  Tom Tykwer  \n",
       "1230  Comedy|Drama|Romance  nm0878756  Tom Tykwer  "
      ]
     },
     "execution_count": 157,
     "metadata": {},
     "output_type": "execute_result"
    }
   ],
   "source": [
    "cdr_movies[cdr_movies['director'] == 'Tom Tykwer']"
   ]
  },
  {
   "cell_type": "markdown",
   "metadata": {},
   "source": [
    "Looks like Tom Tykwer has had two significant projects worth investigating.\n",
    "\n",
    "The first on the list, *A Hologram for the King*, boasts a significant production budget of **$35,000,000**, which is on par with the figures of Greg Berlanti's *Life as We Know It*.\n",
    "\n",
    "If we calculate the total return on investment, like we did for Berlanti's projects:\n",
    "\n",
    "***\n",
    "\n",
    "*A Hologram for the King*:\n",
    "\n",
    "* Domestic: **$4,212,494**\n",
    "\n",
    "* Worldwide: **$11,846,010**\n",
    "\n",
    "*3*:\n",
    "\n",
    "* Domestic: **$59,774**\n",
    "\n",
    "* Worldwide: **$295,492**\n",
    "\n",
    "***\n",
    "\n",
    "Both of these projects were unable to turn a profit. It is definitely safe to assume that we will not see any films directed by Tom Tykwer any time soon."
   ]
  },
  {
   "cell_type": "code",
   "execution_count": 158,
   "metadata": {},
   "outputs": [
    {
     "data": {
      "text/html": [
       "<div>\n",
       "<style scoped>\n",
       "    .dataframe tbody tr th:only-of-type {\n",
       "        vertical-align: middle;\n",
       "    }\n",
       "\n",
       "    .dataframe tbody tr th {\n",
       "        vertical-align: top;\n",
       "    }\n",
       "\n",
       "    .dataframe thead th {\n",
       "        text-align: right;\n",
       "    }\n",
       "</style>\n",
       "<table border=\"1\" class=\"dataframe\">\n",
       "  <thead>\n",
       "    <tr style=\"text-align: right;\">\n",
       "      <th></th>\n",
       "      <th>release_date</th>\n",
       "      <th>movie</th>\n",
       "      <th>production_budget</th>\n",
       "      <th>domestic_gross</th>\n",
       "      <th>worldwide_gross</th>\n",
       "      <th>movie_id</th>\n",
       "      <th>start_year</th>\n",
       "      <th>runtime_minutes</th>\n",
       "      <th>genres</th>\n",
       "      <th>person_id</th>\n",
       "      <th>director</th>\n",
       "    </tr>\n",
       "  </thead>\n",
       "  <tbody>\n",
       "    <tr>\n",
       "      <th>912</th>\n",
       "      <td>Jul 25, 2014</td>\n",
       "      <td>And So It Goes</td>\n",
       "      <td>18000000</td>\n",
       "      <td>15160801</td>\n",
       "      <td>17920013</td>\n",
       "      <td>tt2465146</td>\n",
       "      <td>2014</td>\n",
       "      <td>94.0</td>\n",
       "      <td>Comedy|Drama|Romance</td>\n",
       "      <td>nm0001661</td>\n",
       "      <td>Rob Reiner</td>\n",
       "    </tr>\n",
       "    <tr>\n",
       "      <th>1006</th>\n",
       "      <td>Aug 6, 2010</td>\n",
       "      <td>Flipped</td>\n",
       "      <td>14000000</td>\n",
       "      <td>1755212</td>\n",
       "      <td>4289993</td>\n",
       "      <td>tt0817177</td>\n",
       "      <td>2010</td>\n",
       "      <td>90.0</td>\n",
       "      <td>Comedy|Drama|Romance</td>\n",
       "      <td>nm0001661</td>\n",
       "      <td>Rob Reiner</td>\n",
       "    </tr>\n",
       "  </tbody>\n",
       "</table>\n",
       "</div>"
      ],
      "text/plain": [
       "      release_date           movie  production_budget  domestic_gross  \\\n",
       "912   Jul 25, 2014  And So It Goes           18000000        15160801   \n",
       "1006   Aug 6, 2010         Flipped           14000000         1755212   \n",
       "\n",
       "      worldwide_gross   movie_id  start_year  runtime_minutes  \\\n",
       "912          17920013  tt2465146        2014             94.0   \n",
       "1006          4289993  tt0817177        2010             90.0   \n",
       "\n",
       "                    genres  person_id    director  \n",
       "912   Comedy|Drama|Romance  nm0001661  Rob Reiner  \n",
       "1006  Comedy|Drama|Romance  nm0001661  Rob Reiner  "
      ]
     },
     "execution_count": 158,
     "metadata": {},
     "output_type": "execute_result"
    }
   ],
   "source": [
    "cdr_movies[cdr_movies['director'] == 'Rob Reiner']"
   ]
  },
  {
   "cell_type": "markdown",
   "metadata": {},
   "source": [
    "***\n",
    "\n",
    "*And So It Goes*:\n",
    "\n",
    "* Budget: **$18,000,000**\n",
    "\n",
    "* Domestic: **$15,160,801**\n",
    "\n",
    "* Worldwide: **$17,920,013**\n",
    "\n",
    "*Flipped*:\n",
    "\n",
    "* Budget: **$14,000,000**\n",
    "\n",
    "* Domestic: **$1,755,212**\n",
    "\n",
    "* Worldwide: **$4,289,993**\n",
    "\n",
    "***"
   ]
  },
  {
   "cell_type": "markdown",
   "metadata": {},
   "source": [
    "Similarly, Rob Reiner was unable to turn any profit on either of his films. We investigated three directors, each with two films under their belts. Zero of the three provided substantial data to warrant a recommendation of their talent, nor the genre of movie, as a whole.\n",
    "\n",
    "It is possible that this genre of movie is unsuccessful because it is difficult to balance both comedic and dramatic elements, let alone romantic elements."
   ]
  },
  {
   "cell_type": "code",
   "execution_count": 159,
   "metadata": {},
   "outputs": [],
   "source": [
    "conn.close()"
   ]
  },
  {
   "cell_type": "markdown",
   "metadata": {},
   "source": [
    "# Recommendations:\n",
    "* Produce an `Adventure|Animation|Comedy` or `Drama` film.\n",
    "\n",
    "* Hire Mike Mitchell to direct an `Adventure|Animation|Comedy` film.\n",
    "\n",
    "* Hire Alex Kendrick to direct a `Drama` film.\n",
    "\n",
    "* Allocate a production budget of at least **$100,000,000** for an `Adventure|Animation|Comedy` film with Mike Mitchell.\n",
    "\n",
    "* Allocate any amount of a budget for a `Drama` film with Alex Kendrick."
   ]
  }
 ],
 "metadata": {
  "kernelspec": {
   "display_name": "Python 3 (ipykernel)",
   "language": "python",
   "name": "python3"
  },
  "language_info": {
   "codemirror_mode": {
    "name": "ipython",
    "version": 3
   },
   "file_extension": ".py",
   "mimetype": "text/x-python",
   "name": "python",
   "nbconvert_exporter": "python",
   "pygments_lexer": "ipython3",
   "version": "3.9.19"
  }
 },
 "nbformat": 4,
 "nbformat_minor": 4
}
